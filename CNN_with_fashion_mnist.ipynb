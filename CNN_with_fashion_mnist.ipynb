{
  "nbformat": 4,
  "nbformat_minor": 0,
  "metadata": {
    "colab": {
      "name": "CNN with fashion-mnist",
      "provenance": [],
      "authorship_tag": "ABX9TyOCkecQYdrotzPC3xLtkQYE",
      "include_colab_link": true
    },
    "kernelspec": {
      "name": "python3",
      "display_name": "Python 3"
    },
    "language_info": {
      "name": "python"
    }
  },
  "cells": [
    {
      "cell_type": "markdown",
      "metadata": {
        "id": "view-in-github",
        "colab_type": "text"
      },
      "source": [
        "<a href=\"https://colab.research.google.com/github/mrrkdas/LazyProgrammer-DeepLearning-Course/blob/main/CNN_with_fashion_mnist.ipynb\" target=\"_parent\"><img src=\"https://colab.research.google.com/assets/colab-badge.svg\" alt=\"Open In Colab\"/></a>"
      ]
    },
    {
      "cell_type": "code",
      "execution_count": 4,
      "metadata": {
        "id": "suH6QvJdQJiw"
      },
      "outputs": [],
      "source": [
        "import tensorflow as tf\n",
        "from tensorflow.keras.layers import Conv2D, Dense, MaxPool2D, Input, Dropout, Flatten\n",
        "import numpy as np"
      ]
    },
    {
      "cell_type": "code",
      "source": [
        "# Load Data\n",
        "fashion_mnist = tf.keras.datasets.fashion_mnist\n",
        "\n",
        "(X_train, y_train), (X_test, y_test) = fashion_mnist.load_data()"
      ],
      "metadata": {
        "colab": {
          "base_uri": "https://localhost:8080/"
        },
        "id": "1cWSnSZiRDdw",
        "outputId": "6a4d8ede-06d0-4ead-a68d-2efbe9c8a173"
      },
      "execution_count": 2,
      "outputs": [
        {
          "output_type": "stream",
          "name": "stdout",
          "text": [
            "Downloading data from https://storage.googleapis.com/tensorflow/tf-keras-datasets/train-labels-idx1-ubyte.gz\n",
            "32768/29515 [=================================] - 0s 0us/step\n",
            "40960/29515 [=========================================] - 0s 0us/step\n",
            "Downloading data from https://storage.googleapis.com/tensorflow/tf-keras-datasets/train-images-idx3-ubyte.gz\n",
            "26427392/26421880 [==============================] - 0s 0us/step\n",
            "26435584/26421880 [==============================] - 0s 0us/step\n",
            "Downloading data from https://storage.googleapis.com/tensorflow/tf-keras-datasets/t10k-labels-idx1-ubyte.gz\n",
            "16384/5148 [===============================================================================================] - 0s 0us/step\n",
            "Downloading data from https://storage.googleapis.com/tensorflow/tf-keras-datasets/t10k-images-idx3-ubyte.gz\n",
            "4423680/4422102 [==============================] - 0s 0us/step\n",
            "4431872/4422102 [==============================] - 0s 0us/step\n"
          ]
        }
      ]
    },
    {
      "cell_type": "markdown",
      "source": [
        "## Preprocessing"
      ],
      "metadata": {
        "id": "LGadmLCjRPNC"
      }
    },
    {
      "cell_type": "code",
      "source": [
        "X_train = np.reshape(X_train, (60000, 28, 28, 1))\n",
        "X_test = np.reshape(X_test, (10000, 28, 28, 1))"
      ],
      "metadata": {
        "id": "yEUZWa8mRVrC"
      },
      "execution_count": 6,
      "outputs": []
    },
    {
      "cell_type": "markdown",
      "source": [
        "## Model"
      ],
      "metadata": {
        "id": "PBihvlbzRp4f"
      }
    },
    {
      "cell_type": "code",
      "source": [
        "input = Input((28, 28, 1))\n",
        "\n",
        "conv1 = Conv2D(32, (3,3), activation= 'relu') \n",
        "x = conv1(input) \n",
        "x = Conv2D(32, (3,3), activation = 'relu') (x)\n",
        "x = Conv2D(64, (3,3), activation = 'relu') (x)\n",
        "x = Flatten()(x)\n",
        "x = Dropout(0.2) (x)\n",
        "x = Dense(512, activation = 'relu') (x)\n",
        "\n",
        "output = Dense(10, activation = 'softmax') (x)\n",
        "\n",
        "model = tf.keras.models.Model(input, output)"
      ],
      "metadata": {
        "id": "Bg4Q7pDDRvDe"
      },
      "execution_count": 12,
      "outputs": []
    },
    {
      "cell_type": "code",
      "source": [
        "model.compile(loss = 'sparse_categorical_crossentropy', optimizer = 'adam', metrics = ['sparse_categorical_accuracy'])"
      ],
      "metadata": {
        "id": "MfzyHmE5SmoT"
      },
      "execution_count": 13,
      "outputs": []
    },
    {
      "cell_type": "code",
      "source": [
        "r = model.fit(X_train, y_train, epochs = 5)"
      ],
      "metadata": {
        "colab": {
          "base_uri": "https://localhost:8080/"
        },
        "id": "UEAB5XjdSzKM",
        "outputId": "d334de2e-3b09-4324-95eb-f5a8015d3b3f"
      },
      "execution_count": 14,
      "outputs": [
        {
          "output_type": "stream",
          "name": "stdout",
          "text": [
            "Epoch 1/5\n",
            "1875/1875 [==============================] - 545s 290ms/step - loss: 1.0044 - sparse_categorical_accuracy: 0.8287\n",
            "Epoch 2/5\n",
            "1875/1875 [==============================] - 505s 270ms/step - loss: 0.3036 - sparse_categorical_accuracy: 0.8859\n",
            "Epoch 3/5\n",
            "1875/1875 [==============================] - 507s 270ms/step - loss: 0.2375 - sparse_categorical_accuracy: 0.9103\n",
            "Epoch 4/5\n",
            "1875/1875 [==============================] - 502s 268ms/step - loss: 0.1927 - sparse_categorical_accuracy: 0.9281\n",
            "Epoch 5/5\n",
            "1875/1875 [==============================] - 502s 268ms/step - loss: 0.1574 - sparse_categorical_accuracy: 0.9426\n"
          ]
        }
      ]
    },
    {
      "cell_type": "markdown",
      "source": [
        "## After Model"
      ],
      "metadata": {
        "id": "xaUC3fBZS2PE"
      }
    },
    {
      "cell_type": "code",
      "source": [
        "import matplotlib.pyplot as plt\n",
        "plt.plot(r.history['loss'], label = 'loss')\n",
        "plt.plot(r.history['sparse_categorical_accuracy'])"
      ],
      "metadata": {
        "colab": {
          "base_uri": "https://localhost:8080/",
          "height": 283
        },
        "id": "roUqvgc3S7oE",
        "outputId": "9cf99064-ae87-4e0e-a494-2dc4e77aac19"
      },
      "execution_count": 15,
      "outputs": [
        {
          "output_type": "execute_result",
          "data": {
            "text/plain": [
              "[<matplotlib.lines.Line2D at 0x7fd44ddcff50>]"
            ]
          },
          "metadata": {},
          "execution_count": 15
        },
        {
          "output_type": "display_data",
          "data": {
            "text/plain": [
              "<Figure size 432x288 with 1 Axes>"
            ],
            "image/png": "[encoded data removed]"
          },
          "metadata": {
            "needs_background": "light"
          }
        }
      ]
    },
    {
      "cell_type": "code",
      "source": [
        "from sklearn.metrics import confusion_matrix"
      ],
      "metadata": {
        "id": "RAaRMMILTpFZ"
      },
      "execution_count": 16,
      "outputs": []
    },
    {
      "cell_type": "code",
      "source": [
        "import itertools\n",
        "def plot_confusion_matrix(cm, classes,\n",
        "                          normalize=False,\n",
        "                          title='Confusion matrix',\n",
        "                          cmap=plt.cm.Blues):\n",
        "  \"\"\"\n",
        "  This function prints and plots the confusion matrix.\n",
        "  Normalization can be applied by setting `normalize=True`.\n",
        "  \"\"\"\n",
        "  if normalize:\n",
        "      cm = cm.astype('float') / cm.sum(axis=1)[:, np.newaxis]\n",
        "      print(\"Normalized confusion matrix\")\n",
        "  else:\n",
        "      print('Confusion matrix, without normalization')\n",
        "\n",
        "  print(cm)\n",
        "\n",
        "  plt.imshow(cm, interpolation='nearest', cmap=cmap)\n",
        "  plt.title(title)\n",
        "  plt.colorbar()\n",
        "  tick_marks = np.arange(len(classes))\n",
        "  plt.xticks(tick_marks, classes, rotation=45)\n",
        "  plt.yticks(tick_marks, classes)\n",
        "\n",
        "  fmt = '.2f' if normalize else 'd'\n",
        "  thresh = cm.max() / 2.\n",
        "  for i, j in itertools.product(range(cm.shape[0]), range(cm.shape[1])):\n",
        "      plt.text(j, i, format(cm[i, j], fmt),\n",
        "               horizontalalignment=\"center\",\n",
        "               color=\"white\" if cm[i, j] > thresh else \"black\")\n",
        "\n",
        "  plt.tight_layout()\n",
        "  plt.ylabel('True label')\n",
        "  plt.xlabel('Predicted label')\n",
        "  plt.show()\n",
        "\n",
        "\n",
        "p_test = model.predict(X_test).argmax(axis=1)\n",
        "cm = confusion_matrix(y_test, p_test)\n",
        "plot_confusion_matrix(cm, list(range(10)))\n",
        "\n"
      ],
      "metadata": {
        "colab": {
          "base_uri": "https://localhost:8080/",
          "height": 507
        },
        "id": "gzsx5wuXTWO0",
        "outputId": "747e5311-bd56-45af-b99f-34daf1df0cf4"
      },
      "execution_count": 17,
      "outputs": [
        {
          "output_type": "stream",
          "name": "stdout",
          "text": [
            "Confusion matrix, without normalization\n",
            "[[889   2  21  16   3   2  65   0   2   0]\n",
            " [  4 957   2  27   4   0   5   0   1   0]\n",
            " [ 18   0 809   9  98   0  66   0   0   0]\n",
            " [ 22   1   7 912  33   0  24   0   1   0]\n",
            " [  1   0  69  32 837   0  61   0   0   0]\n",
            " [  0   0   0   1   0 974   0  15   0  10]\n",
            " [149   1  71  27  62   0 688   0   2   0]\n",
            " [  0   0   0   0   0  11   0 971   0  18]\n",
            " [  3   0   4   6   6   1  19   7 954   0]\n",
            " [  0   0   1   0   0  10   0  37   0 952]]\n"
          ]
        },
        {
          "output_type": "display_data",
          "data": {
            "text/plain": [
              "<Figure size 432x288 with 2 Axes>"
            ],
            "image/png": "[encoded data removed]"
          },
          "metadata": {
            "needs_background": "light"
          }
        }
      ]
    }
  ]
}