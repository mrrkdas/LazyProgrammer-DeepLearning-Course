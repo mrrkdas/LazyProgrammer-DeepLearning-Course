{
  "nbformat": 4,
  "nbformat_minor": 0,
  "metadata": {
    "colab": {
      "name": "00_Linear_Classification_with_Breast_Cancer_Dataset",
      "provenance": [],
      "authorship_tag": "ABX9TyNI1EdNujeCTb9/5MxHAyZA",
      "include_colab_link": true
    },
    "kernelspec": {
      "name": "python3",
      "display_name": "Python 3"
    },
    "language_info": {
      "name": "python"
    }
  },
  "cells": [
    {
      "cell_type": "markdown",
      "metadata": {
        "id": "view-in-github",
        "colab_type": "text"
      },
      "source": [
        "<a href=\"https://colab.research.google.com/github/mrrkdas/LazyProgrammer-DeepLearning-Course/blob/main/Linear_Classification_with_Breast_Cancer_Dataset.ipynb\" target=\"_parent\"><img src=\"https://colab.research.google.com/assets/colab-badge.svg\" alt=\"Open In Colab\"/></a>"
      ]
    },
    {
      "cell_type": "code",
      "execution_count": 2,
      "metadata": {
        "id": "eU38hsH1Ui-R"
      },
      "outputs": [],
      "source": [
        "import tensorflow as tf\n",
        "\n",
        "from sklearn.datasets import load_breast_cancer\n",
        "from sklearn.model_selection import train_test_split\n",
        "from sklearn.preprocessing import StandardScaler\n",
        "\n",
        "from tensorflow.keras.models import Sequential\n",
        "from tensorflow.keras.layers import Dense"
      ]
    },
    {
      "cell_type": "markdown",
      "source": [
        "## Loading Data and Getting to know it"
      ],
      "metadata": {
        "id": "mMKp_xydVqbw"
      }
    },
    {
      "cell_type": "code",
      "source": [
        "data = load_breast_cancer()\n",
        "\n",
        "type(data) # A bunch basically functions as a dictionary so it has keys"
      ],
      "metadata": {
        "colab": {
          "base_uri": "https://localhost:8080/"
        },
        "id": "wiVxlDjeWHqx",
        "outputId": "d8bc1001-b74b-48c4-ddb1-19500666e95d"
      },
      "execution_count": 3,
      "outputs": [
        {
          "output_type": "execute_result",
          "data": {
            "text/plain": [
              "sklearn.utils.Bunch"
            ]
          },
          "metadata": {},
          "execution_count": 3
        }
      ]
    },
    {
      "cell_type": "code",
      "source": [
        "data.keys() # Data is our X, and target is our Y"
      ],
      "metadata": {
        "colab": {
          "base_uri": "https://localhost:8080/"
        },
        "id": "xFRXD6PRWL6b",
        "outputId": "4893c241-a72d-46e1-a5b8-0c46cdb6526e"
      },
      "execution_count": 5,
      "outputs": [
        {
          "output_type": "execute_result",
          "data": {
            "text/plain": [
              "dict_keys(['data', 'target', 'frame', 'target_names', 'DESCR', 'feature_names', 'filename', 'data_module'])"
            ]
          },
          "metadata": {},
          "execution_count": 5
        }
      ]
    },
    {
      "cell_type": "code",
      "source": [
        "data.data.shape # 569 entries, 30 features per entry"
      ],
      "metadata": {
        "colab": {
          "base_uri": "https://localhost:8080/"
        },
        "id": "RAdG4v-YWTzH",
        "outputId": "e95ccca3-e0c6-4603-bc21-96015d96458d"
      },
      "execution_count": 7,
      "outputs": [
        {
          "output_type": "execute_result",
          "data": {
            "text/plain": [
              "(569, 30)"
            ]
          },
          "metadata": {},
          "execution_count": 7
        }
      ]
    },
    {
      "cell_type": "code",
      "source": [
        "data.feature_names"
      ],
      "metadata": {
        "colab": {
          "base_uri": "https://localhost:8080/"
        },
        "id": "CG6NctwOWjyC",
        "outputId": "920192bb-d304-4c88-b17e-9ffd42a566d5"
      },
      "execution_count": 10,
      "outputs": [
        {
          "output_type": "execute_result",
          "data": {
            "text/plain": [
              "array(['mean radius', 'mean texture', 'mean perimeter', 'mean area',\n",
              "       'mean smoothness', 'mean compactness', 'mean concavity',\n",
              "       'mean concave points', 'mean symmetry', 'mean fractal dimension',\n",
              "       'radius error', 'texture error', 'perimeter error', 'area error',\n",
              "       'smoothness error', 'compactness error', 'concavity error',\n",
              "       'concave points error', 'symmetry error',\n",
              "       'fractal dimension error', 'worst radius', 'worst texture',\n",
              "       'worst perimeter', 'worst area', 'worst smoothness',\n",
              "       'worst compactness', 'worst concavity', 'worst concave points',\n",
              "       'worst symmetry', 'worst fractal dimension'], dtype='<U23')"
            ]
          },
          "metadata": {},
          "execution_count": 10
        }
      ]
    },
    {
      "cell_type": "code",
      "source": [
        "data.target"
      ],
      "metadata": {
        "colab": {
          "base_uri": "https://localhost:8080/"
        },
        "id": "LGCmUe2NWnmx",
        "outputId": "c0ab2e5f-29c3-4fac-c42f-73516428b4dd"
      },
      "execution_count": 11,
      "outputs": [
        {
          "output_type": "execute_result",
          "data": {
            "text/plain": [
              "array([0, 0, 0, 0, 0, 0, 0, 0, 0, 0, 0, 0, 0, 0, 0, 0, 0, 0, 0, 1, 1, 1,\n",
              "       0, 0, 0, 0, 0, 0, 0, 0, 0, 0, 0, 0, 0, 0, 0, 1, 0, 0, 0, 0, 0, 0,\n",
              "       0, 0, 1, 0, 1, 1, 1, 1, 1, 0, 0, 1, 0, 0, 1, 1, 1, 1, 0, 1, 0, 0,\n",
              "       1, 1, 1, 1, 0, 1, 0, 0, 1, 0, 1, 0, 0, 1, 1, 1, 0, 0, 1, 0, 0, 0,\n",
              "       1, 1, 1, 0, 1, 1, 0, 0, 1, 1, 1, 0, 0, 1, 1, 1, 1, 0, 1, 1, 0, 1,\n",
              "       1, 1, 1, 1, 1, 1, 1, 0, 0, 0, 1, 0, 0, 1, 1, 1, 0, 0, 1, 0, 1, 0,\n",
              "       0, 1, 0, 0, 1, 1, 0, 1, 1, 0, 1, 1, 1, 1, 0, 1, 1, 1, 1, 1, 1, 1,\n",
              "       1, 1, 0, 1, 1, 1, 1, 0, 0, 1, 0, 1, 1, 0, 0, 1, 1, 0, 0, 1, 1, 1,\n",
              "       1, 0, 1, 1, 0, 0, 0, 1, 0, 1, 0, 1, 1, 1, 0, 1, 1, 0, 0, 1, 0, 0,\n",
              "       0, 0, 1, 0, 0, 0, 1, 0, 1, 0, 1, 1, 0, 1, 0, 0, 0, 0, 1, 1, 0, 0,\n",
              "       1, 1, 1, 0, 1, 1, 1, 1, 1, 0, 0, 1, 1, 0, 1, 1, 0, 0, 1, 0, 1, 1,\n",
              "       1, 1, 0, 1, 1, 1, 1, 1, 0, 1, 0, 0, 0, 0, 0, 0, 0, 0, 0, 0, 0, 0,\n",
              "       0, 0, 1, 1, 1, 1, 1, 1, 0, 1, 0, 1, 1, 0, 1, 1, 0, 1, 0, 0, 1, 1,\n",
              "       1, 1, 1, 1, 1, 1, 1, 1, 1, 1, 1, 0, 1, 1, 0, 1, 0, 1, 1, 1, 1, 1,\n",
              "       1, 1, 1, 1, 1, 1, 1, 1, 1, 0, 1, 1, 1, 0, 1, 0, 1, 1, 1, 1, 0, 0,\n",
              "       0, 1, 1, 1, 1, 0, 1, 0, 1, 0, 1, 1, 1, 0, 1, 1, 1, 1, 1, 1, 1, 0,\n",
              "       0, 0, 1, 1, 1, 1, 1, 1, 1, 1, 1, 1, 1, 0, 0, 1, 0, 0, 0, 1, 0, 0,\n",
              "       1, 1, 1, 1, 1, 0, 1, 1, 1, 1, 1, 0, 1, 1, 1, 0, 1, 1, 0, 0, 1, 1,\n",
              "       1, 1, 1, 1, 0, 1, 1, 1, 1, 1, 1, 1, 0, 1, 1, 1, 1, 1, 0, 1, 1, 0,\n",
              "       1, 1, 1, 1, 1, 1, 1, 1, 1, 1, 1, 1, 0, 1, 0, 0, 1, 0, 1, 1, 1, 1,\n",
              "       1, 0, 1, 1, 0, 1, 0, 1, 1, 0, 1, 0, 1, 1, 1, 1, 1, 1, 1, 1, 0, 0,\n",
              "       1, 1, 1, 1, 1, 1, 0, 1, 1, 1, 1, 1, 1, 1, 1, 1, 1, 0, 1, 1, 1, 1,\n",
              "       1, 1, 1, 0, 1, 0, 1, 1, 0, 1, 1, 1, 1, 1, 0, 0, 1, 0, 1, 0, 1, 1,\n",
              "       1, 1, 1, 0, 1, 1, 0, 1, 0, 1, 0, 0, 1, 1, 1, 0, 1, 1, 1, 1, 1, 1,\n",
              "       1, 1, 1, 1, 1, 0, 1, 0, 0, 1, 1, 1, 1, 1, 1, 1, 1, 1, 1, 1, 1, 1,\n",
              "       1, 1, 1, 1, 1, 1, 1, 1, 1, 1, 1, 1, 0, 0, 0, 0, 0, 0, 1])"
            ]
          },
          "metadata": {},
          "execution_count": 11
        }
      ]
    },
    {
      "cell_type": "code",
      "source": [
        "data.target_names # 0 for malignant and 1 for benign"
      ],
      "metadata": {
        "colab": {
          "base_uri": "https://localhost:8080/"
        },
        "id": "P7ugvZBGW466",
        "outputId": "8a8615ea-3d5c-4ea6-e365-ae036eac5fcb"
      },
      "execution_count": 12,
      "outputs": [
        {
          "output_type": "execute_result",
          "data": {
            "text/plain": [
              "array(['malignant', 'benign'], dtype='<U9')"
            ]
          },
          "metadata": {},
          "execution_count": 12
        }
      ]
    },
    {
      "cell_type": "markdown",
      "source": [
        "## Train Test Split, and Standard Scaling"
      ],
      "metadata": {
        "id": "CT7mRZGhW_DU"
      }
    },
    {
      "cell_type": "code",
      "source": [
        "X = data.data # All the data.feature_names\n",
        "y = data.target # 0's and 1's"
      ],
      "metadata": {
        "id": "8x_LfmdNXJxz"
      },
      "execution_count": 14,
      "outputs": []
    },
    {
      "cell_type": "code",
      "source": [
        "# Train Test Split\n",
        "X_train, X_test, y_train, y_test = train_test_split(X, y, test_size = 0.33, random_state = 42)"
      ],
      "metadata": {
        "id": "RJFj7Wk0XSzD"
      },
      "execution_count": 18,
      "outputs": []
    },
    {
      "cell_type": "code",
      "source": [
        "# Instantiating the standard scaler\n",
        "scaler = StandardScaler()\n",
        "\n",
        "# Applying fit_transform and transform\n",
        "X_train_scaled = scaler.fit_transform(X_train)\n",
        "X_test_scaled = scaler.transform(X_test) # Can't let model see the test data"
      ],
      "metadata": {
        "id": "HHVTjkdDXk0b"
      },
      "execution_count": 19,
      "outputs": []
    },
    {
      "cell_type": "markdown",
      "source": [
        "## Model"
      ],
      "metadata": {
        "id": "98SRva_PYDmA"
      }
    },
    {
      "cell_type": "code",
      "source": [
        "model = Sequential()\n",
        "\n",
        "# Layers: 1 10 neuron dense layer with an input shape of 30 with relu activation, and then an output layer with 1 neuron with sigmoid activation\n",
        "model.add(Dense(10, activation = \"relu\", input_shape = (30,))) # Was having trouble on this part, I believe it is 30 because there are 30 features\n",
        "model.add(Dense(1, activation = 'sigmoid'))\n",
        "\n",
        "# Compiling Model \n",
        "model.compile(loss = 'binary_crossentropy', # Only 0's and 1's\n",
        "              optimizer = 'adam', \n",
        "              metrics = [\"accuracy\"])"
      ],
      "metadata": {
        "id": "PnFqTZ07YJD0"
      },
      "execution_count": 21,
      "outputs": []
    },
    {
      "cell_type": "code",
      "source": [
        "model.summary()"
      ],
      "metadata": {
        "colab": {
          "base_uri": "https://localhost:8080/"
        },
        "id": "RohESCzrZZlZ",
        "outputId": "6eb636fd-4ec2-4924-86e9-e037824d7814"
      },
      "execution_count": 22,
      "outputs": [
        {
          "output_type": "stream",
          "name": "stdout",
          "text": [
            "Model: \"sequential\"\n",
            "_________________________________________________________________\n",
            " Layer (type)                Output Shape              Param #   \n",
            "=================================================================\n",
            " dense (Dense)               (None, 10)                310       \n",
            "                                                                 \n",
            " dense_1 (Dense)             (None, 1)                 11        \n",
            "                                                                 \n",
            "=================================================================\n",
            "Total params: 321\n",
            "Trainable params: 321\n",
            "Non-trainable params: 0\n",
            "_________________________________________________________________\n"
          ]
        }
      ]
    },
    {
      "cell_type": "code",
      "source": [
        "r = model.fit(X_train_scaled, y_train, validation_data = (X_test_scaled, y_test), epochs = 50)"
      ],
      "metadata": {
        "colab": {
          "base_uri": "https://localhost:8080/"
        },
        "id": "bq80BtPsZcMf",
        "outputId": "a5eb45ea-a688-41f5-fa66-1d8dbbc64db4"
      },
      "execution_count": 23,
      "outputs": [
        {
          "output_type": "stream",
          "name": "stdout",
          "text": [
            "Epoch 1/50\n",
            "12/12 [==============================] - 2s 47ms/step - loss: 0.5313 - accuracy: 0.7717 - val_loss: 0.4816 - val_accuracy: 0.8670\n",
            "Epoch 2/50\n",
            "12/12 [==============================] - 0s 18ms/step - loss: 0.4301 - accuracy: 0.8346 - val_loss: 0.4002 - val_accuracy: 0.9202\n",
            "Epoch 3/50\n",
            "12/12 [==============================] - 0s 14ms/step - loss: 0.3614 - accuracy: 0.8793 - val_loss: 0.3445 - val_accuracy: 0.9362\n",
            "Epoch 4/50\n",
            "12/12 [==============================] - 0s 8ms/step - loss: 0.3131 - accuracy: 0.9134 - val_loss: 0.3048 - val_accuracy: 0.9468\n",
            "Epoch 5/50\n",
            "12/12 [==============================] - 0s 10ms/step - loss: 0.2786 - accuracy: 0.9213 - val_loss: 0.2753 - val_accuracy: 0.9468\n",
            "Epoch 6/50\n",
            "12/12 [==============================] - 0s 8ms/step - loss: 0.2528 - accuracy: 0.9239 - val_loss: 0.2520 - val_accuracy: 0.9415\n",
            "Epoch 7/50\n",
            "12/12 [==============================] - 0s 8ms/step - loss: 0.2316 - accuracy: 0.9370 - val_loss: 0.2337 - val_accuracy: 0.9362\n",
            "Epoch 8/50\n",
            "12/12 [==============================] - 0s 8ms/step - loss: 0.2145 - accuracy: 0.9475 - val_loss: 0.2179 - val_accuracy: 0.9362\n",
            "Epoch 9/50\n",
            "12/12 [==============================] - 0s 12ms/step - loss: 0.2003 - accuracy: 0.9501 - val_loss: 0.2044 - val_accuracy: 0.9362\n",
            "Epoch 10/50\n",
            "12/12 [==============================] - 0s 8ms/step - loss: 0.1875 - accuracy: 0.9528 - val_loss: 0.1932 - val_accuracy: 0.9362\n",
            "Epoch 11/50\n",
            "12/12 [==============================] - 0s 7ms/step - loss: 0.1769 - accuracy: 0.9606 - val_loss: 0.1830 - val_accuracy: 0.9255\n",
            "Epoch 12/50\n",
            "12/12 [==============================] - 0s 7ms/step - loss: 0.1673 - accuracy: 0.9659 - val_loss: 0.1738 - val_accuracy: 0.9415\n",
            "Epoch 13/50\n",
            "12/12 [==============================] - 0s 8ms/step - loss: 0.1589 - accuracy: 0.9685 - val_loss: 0.1656 - val_accuracy: 0.9468\n",
            "Epoch 14/50\n",
            "12/12 [==============================] - 0s 7ms/step - loss: 0.1510 - accuracy: 0.9738 - val_loss: 0.1581 - val_accuracy: 0.9468\n",
            "Epoch 15/50\n",
            "12/12 [==============================] - 0s 11ms/step - loss: 0.1434 - accuracy: 0.9711 - val_loss: 0.1497 - val_accuracy: 0.9468\n",
            "Epoch 16/50\n",
            "12/12 [==============================] - 0s 7ms/step - loss: 0.1362 - accuracy: 0.9738 - val_loss: 0.1421 - val_accuracy: 0.9521\n",
            "Epoch 17/50\n",
            "12/12 [==============================] - 0s 7ms/step - loss: 0.1300 - accuracy: 0.9764 - val_loss: 0.1356 - val_accuracy: 0.9521\n",
            "Epoch 18/50\n",
            "12/12 [==============================] - 0s 8ms/step - loss: 0.1245 - accuracy: 0.9764 - val_loss: 0.1293 - val_accuracy: 0.9521\n",
            "Epoch 19/50\n",
            "12/12 [==============================] - 0s 7ms/step - loss: 0.1196 - accuracy: 0.9764 - val_loss: 0.1238 - val_accuracy: 0.9468\n",
            "Epoch 20/50\n",
            "12/12 [==============================] - 0s 8ms/step - loss: 0.1150 - accuracy: 0.9764 - val_loss: 0.1189 - val_accuracy: 0.9468\n",
            "Epoch 21/50\n",
            "12/12 [==============================] - 0s 8ms/step - loss: 0.1109 - accuracy: 0.9764 - val_loss: 0.1149 - val_accuracy: 0.9468\n",
            "Epoch 22/50\n",
            "12/12 [==============================] - 0s 8ms/step - loss: 0.1071 - accuracy: 0.9790 - val_loss: 0.1109 - val_accuracy: 0.9574\n",
            "Epoch 23/50\n",
            "12/12 [==============================] - 0s 7ms/step - loss: 0.1039 - accuracy: 0.9790 - val_loss: 0.1074 - val_accuracy: 0.9628\n",
            "Epoch 24/50\n",
            "12/12 [==============================] - 0s 9ms/step - loss: 0.1008 - accuracy: 0.9816 - val_loss: 0.1041 - val_accuracy: 0.9681\n",
            "Epoch 25/50\n",
            "12/12 [==============================] - 0s 8ms/step - loss: 0.0977 - accuracy: 0.9843 - val_loss: 0.1013 - val_accuracy: 0.9734\n",
            "Epoch 26/50\n",
            "12/12 [==============================] - 0s 8ms/step - loss: 0.0951 - accuracy: 0.9843 - val_loss: 0.0985 - val_accuracy: 0.9734\n",
            "Epoch 27/50\n",
            "12/12 [==============================] - 0s 7ms/step - loss: 0.0925 - accuracy: 0.9843 - val_loss: 0.0957 - val_accuracy: 0.9787\n",
            "Epoch 28/50\n",
            "12/12 [==============================] - 0s 7ms/step - loss: 0.0903 - accuracy: 0.9843 - val_loss: 0.0934 - val_accuracy: 0.9787\n",
            "Epoch 29/50\n",
            "12/12 [==============================] - 0s 9ms/step - loss: 0.0881 - accuracy: 0.9843 - val_loss: 0.0915 - val_accuracy: 0.9787\n",
            "Epoch 30/50\n",
            "12/12 [==============================] - 0s 9ms/step - loss: 0.0864 - accuracy: 0.9843 - val_loss: 0.0895 - val_accuracy: 0.9787\n",
            "Epoch 31/50\n",
            "12/12 [==============================] - 0s 7ms/step - loss: 0.0844 - accuracy: 0.9843 - val_loss: 0.0876 - val_accuracy: 0.9787\n",
            "Epoch 32/50\n",
            "12/12 [==============================] - 0s 7ms/step - loss: 0.0828 - accuracy: 0.9843 - val_loss: 0.0859 - val_accuracy: 0.9787\n",
            "Epoch 33/50\n",
            "12/12 [==============================] - 0s 7ms/step - loss: 0.0811 - accuracy: 0.9843 - val_loss: 0.0844 - val_accuracy: 0.9787\n",
            "Epoch 34/50\n",
            "12/12 [==============================] - 0s 8ms/step - loss: 0.0796 - accuracy: 0.9843 - val_loss: 0.0831 - val_accuracy: 0.9787\n",
            "Epoch 35/50\n",
            "12/12 [==============================] - 0s 8ms/step - loss: 0.0782 - accuracy: 0.9843 - val_loss: 0.0818 - val_accuracy: 0.9787\n",
            "Epoch 36/50\n",
            "12/12 [==============================] - 0s 8ms/step - loss: 0.0768 - accuracy: 0.9843 - val_loss: 0.0807 - val_accuracy: 0.9787\n",
            "Epoch 37/50\n",
            "12/12 [==============================] - 0s 7ms/step - loss: 0.0757 - accuracy: 0.9843 - val_loss: 0.0792 - val_accuracy: 0.9787\n",
            "Epoch 38/50\n",
            "12/12 [==============================] - 0s 7ms/step - loss: 0.0744 - accuracy: 0.9843 - val_loss: 0.0779 - val_accuracy: 0.9787\n",
            "Epoch 39/50\n",
            "12/12 [==============================] - 0s 10ms/step - loss: 0.0732 - accuracy: 0.9843 - val_loss: 0.0770 - val_accuracy: 0.9787\n",
            "Epoch 40/50\n",
            "12/12 [==============================] - 0s 8ms/step - loss: 0.0722 - accuracy: 0.9843 - val_loss: 0.0761 - val_accuracy: 0.9787\n",
            "Epoch 41/50\n",
            "12/12 [==============================] - 0s 8ms/step - loss: 0.0711 - accuracy: 0.9843 - val_loss: 0.0753 - val_accuracy: 0.9787\n",
            "Epoch 42/50\n",
            "12/12 [==============================] - 0s 14ms/step - loss: 0.0702 - accuracy: 0.9843 - val_loss: 0.0744 - val_accuracy: 0.9787\n",
            "Epoch 43/50\n",
            "12/12 [==============================] - 0s 8ms/step - loss: 0.0691 - accuracy: 0.9843 - val_loss: 0.0735 - val_accuracy: 0.9787\n",
            "Epoch 44/50\n",
            "12/12 [==============================] - 0s 8ms/step - loss: 0.0682 - accuracy: 0.9843 - val_loss: 0.0729 - val_accuracy: 0.9787\n",
            "Epoch 45/50\n",
            "12/12 [==============================] - 0s 8ms/step - loss: 0.0672 - accuracy: 0.9843 - val_loss: 0.0722 - val_accuracy: 0.9787\n",
            "Epoch 46/50\n",
            "12/12 [==============================] - 0s 8ms/step - loss: 0.0663 - accuracy: 0.9843 - val_loss: 0.0713 - val_accuracy: 0.9840\n",
            "Epoch 47/50\n",
            "12/12 [==============================] - 0s 8ms/step - loss: 0.0655 - accuracy: 0.9843 - val_loss: 0.0707 - val_accuracy: 0.9840\n",
            "Epoch 48/50\n",
            "12/12 [==============================] - 0s 10ms/step - loss: 0.0646 - accuracy: 0.9843 - val_loss: 0.0700 - val_accuracy: 0.9840\n",
            "Epoch 49/50\n",
            "12/12 [==============================] - 0s 7ms/step - loss: 0.0638 - accuracy: 0.9843 - val_loss: 0.0695 - val_accuracy: 0.9840\n",
            "Epoch 50/50\n",
            "12/12 [==============================] - 0s 7ms/step - loss: 0.0630 - accuracy: 0.9843 - val_loss: 0.0690 - val_accuracy: 0.9840\n"
          ]
        }
      ]
    },
    {
      "cell_type": "markdown",
      "source": [
        "## Plotting History"
      ],
      "metadata": {
        "id": "30mBbkhna-__"
      }
    },
    {
      "cell_type": "code",
      "source": [
        "import matplotlib.pyplot as plt\n",
        "\n",
        "# plt.plot(50, r['loss']) <-- Mistake, had to look at answer notebook, forgot to put history, and the amount of epochs is not needed\n",
        "#Plotting Loss\n",
        "plt.plot(r.history['loss'], label = 'Loss')\n",
        "plt.plot(r.history['val_loss'], label = 'Validation Loss')\n",
        "plt.legend()"
      ],
      "metadata": {
        "colab": {
          "base_uri": "https://localhost:8080/",
          "height": 283
        },
        "id": "RRIM9nNyZpNI",
        "outputId": "77b6baa5-ff5d-46a3-9912-11d2a1d82edd"
      },
      "execution_count": 27,
      "outputs": [
        {
          "output_type": "execute_result",
          "data": {
            "text/plain": [
              "<matplotlib.legend.Legend at 0x7f4381527a10>"
            ]
          },
          "metadata": {},
          "execution_count": 27
        },
        {
          "output_type": "display_data",
          "data": {
            "text/plain": [
              "<Figure size 432x288 with 1 Axes>"
            ],
            "image/png": "[encoded data removed]"
          },
          "metadata": {
            "needs_background": "light"
          }
        }
      ]
    },
    {
      "cell_type": "code",
      "source": [
        "plt.plot(r.history[\"accuracy\"], label = 'Accuracy')\n",
        "plt.plot(r.history[\"val_accuracy\"], label = 'Validation Accuracy') # Why is the validation accuracy weird?\n",
        "plt.legend()"
      ],
      "metadata": {
        "colab": {
          "base_uri": "https://localhost:8080/",
          "height": 283
        },
        "id": "qkLAEzz_akqj",
        "outputId": "a735a54f-0948-4e42-b357-a138e859ee07"
      },
      "execution_count": 28,
      "outputs": [
        {
          "output_type": "execute_result",
          "data": {
            "text/plain": [
              "<matplotlib.legend.Legend at 0x7f438144de90>"
            ]
          },
          "metadata": {},
          "execution_count": 28
        },
        {
          "output_type": "display_data",
          "data": {
            "text/plain": [
              "<Figure size 432x288 with 1 Axes>"
            ],
            "image/png": "[encoded data removed]"
          },
          "metadata": {
            "needs_background": "light"
          }
        }
      ]
    },
    {
      "cell_type": "code",
      "source": [
        ""
      ],
      "metadata": {
        "id": "SKO1_uLbaxpe"
      },
      "execution_count": null,
      "outputs": []
    }
  ]
}
