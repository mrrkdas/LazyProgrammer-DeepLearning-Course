{
  "nbformat": 4,
  "nbformat_minor": 0,
  "metadata": {
    "colab": {
      "name": "Linear Regression with Moore's Law",
      "provenance": [],
      "authorship_tag": "ABX9TyMUPckvHOozm9FNeHJpEtrp",
      "include_colab_link": true
    },
    "kernelspec": {
      "name": "python3",
      "display_name": "Python 3"
    },
    "language_info": {
      "name": "python"
    }
  },
  "cells": [
    {
      "cell_type": "markdown",
      "metadata": {
        "id": "view-in-github",
        "colab_type": "text"
      },
      "source": [
        "<a href=\"https://colab.research.google.com/github/mrrkdas/LazyProgrammer-DeepLearning-Course/blob/main/Linear_Regression_with_Moore's_Law.ipynb\" target=\"_parent\"><img src=\"https://colab.research.google.com/assets/colab-badge.svg\" alt=\"Open In Colab\"/></a>"
      ]
    },
    {
      "cell_type": "code",
      "execution_count": 18,
      "metadata": {
        "id": "5z10qJYQcA8D"
      },
      "outputs": [],
      "source": [
        "import tensorflow as tf\n",
        "import pandas as pd\n",
        "import numpy as np\n",
        "import matplotlib.pyplot as plt\n",
        "\n",
        "from tensorflow.keras.layers import Dense\n",
        "from tensorflow.keras.models import Sequential"
      ]
    },
    {
      "cell_type": "markdown",
      "source": [
        "## Getting Data and Preprocessing"
      ],
      "metadata": {
        "id": "bzMGETgthl8D"
      }
    },
    {
      "cell_type": "code",
      "source": [
        "!wget https://raw.githubusercontent.com/lazyprogrammer/machine_learning_examples/master/tf2.0/moore.csv"
      ],
      "metadata": {
        "colab": {
          "base_uri": "https://localhost:8080/"
        },
        "id": "vxNoFRBbfNao",
        "outputId": "4408adbc-4380-4688-8cbf-0c6ab2f8c10e"
      },
      "execution_count": 2,
      "outputs": [
        {
          "output_type": "stream",
          "name": "stdout",
          "text": [
            "--2022-03-24 01:14:14--  https://raw.githubusercontent.com/lazyprogrammer/machine_learning_examples/master/tf2.0/moore.csv\n",
            "Resolving raw.githubusercontent.com (raw.githubusercontent.com)... 185.199.108.133, 185.199.109.133, 185.199.110.133, ...\n",
            "Connecting to raw.githubusercontent.com (raw.githubusercontent.com)|185.199.108.133|:443... connected.\n",
            "HTTP request sent, awaiting response... 200 OK\n",
            "Length: 2302 (2.2K) [text/plain]\n",
            "Saving to: ‘moore.csv’\n",
            "\n",
            "\rmoore.csv             0%[                    ]       0  --.-KB/s               \rmoore.csv           100%[===================>]   2.25K  --.-KB/s    in 0s      \n",
            "\n",
            "2022-03-24 01:14:14 (33.6 MB/s) - ‘moore.csv’ saved [2302/2302]\n",
            "\n"
          ]
        }
      ]
    },
    {
      "cell_type": "code",
      "source": [
        "df = pd.read_csv('moore.csv', header = None).values"
      ],
      "metadata": {
        "id": "FyOI298tfRCP"
      },
      "execution_count": 5,
      "outputs": []
    },
    {
      "cell_type": "code",
      "source": [
        "X = df[:,0] # All the data in the first column, used https://stackoverflow.com/questions/63545378/what-does-data-0-or-data-1-mean-in-pandas to figure out what data[:,0] meant\n",
        "y = df[:,1] # All the data in the second column\n",
        "X.shape, y.shape"
      ],
      "metadata": {
        "colab": {
          "base_uri": "https://localhost:8080/"
        },
        "id": "mKLFZI6RfYkD",
        "outputId": "0ea2a82a-c07b-4740-e449-4840c4ced5ea"
      },
      "execution_count": 9,
      "outputs": [
        {
          "output_type": "execute_result",
          "data": {
            "text/plain": [
              "((162,), (162,))"
            ]
          },
          "metadata": {},
          "execution_count": 9
        }
      ]
    },
    {
      "cell_type": "code",
      "source": [
        "# We need to reshape X to become a N x D matrix where D = 1 becuaze keras expects a ((162,1)) input\n",
        "X = X.reshape(-1,1)\n",
        "X.shape"
      ],
      "metadata": {
        "colab": {
          "base_uri": "https://localhost:8080/"
        },
        "id": "QiJPbR4Th094",
        "outputId": "91f57e5a-ea98-4855-965d-910ebcae1387"
      },
      "execution_count": 10,
      "outputs": [
        {
          "output_type": "execute_result",
          "data": {
            "text/plain": [
              "(162, 1)"
            ]
          },
          "metadata": {},
          "execution_count": 10
        }
      ]
    },
    {
      "cell_type": "code",
      "source": [
        "plt.scatter(X, y) # It is exponential so we need to find the log of the Y values to make it linear"
      ],
      "metadata": {
        "colab": {
          "base_uri": "https://localhost:8080/",
          "height": 294
        },
        "id": "gwrRODHDiM5Q",
        "outputId": "2e77c271-ebff-42d8-9228-80bf309bfb78"
      },
      "execution_count": 12,
      "outputs": [
        {
          "output_type": "execute_result",
          "data": {
            "text/plain": [
              "<matplotlib.collections.PathCollection at 0x7f9e3671bed0>"
            ]
          },
          "metadata": {},
          "execution_count": 12
        },
        {
          "output_type": "display_data",
          "data": {
            "text/plain": [
              "<Figure size 432x288 with 1 Axes>"
            ],
            "image/png": "[encoded data removed]"
          },
          "metadata": {
            "needs_background": "light"
          }
        }
      ]
    },
    {
      "cell_type": "code",
      "source": [
        "y = np.log(y) # Not 100% sure how this works\n",
        "plt.scatter(X, y)"
      ],
      "metadata": {
        "colab": {
          "base_uri": "https://localhost:8080/",
          "height": 283
        },
        "id": "D43q_N9XicU2",
        "outputId": "4ee27f79-0c09-40f0-cea7-4d1337f9fd2f"
      },
      "execution_count": 13,
      "outputs": [
        {
          "output_type": "execute_result",
          "data": {
            "text/plain": [
              "<matplotlib.collections.PathCollection at 0x7f9e35c62f50>"
            ]
          },
          "metadata": {},
          "execution_count": 13
        },
        {
          "output_type": "display_data",
          "data": {
            "text/plain": [
              "<Figure size 432x288 with 1 Axes>"
            ],
            "image/png": "[encoded data removed]"
          },
          "metadata": {
            "needs_background": "light"
          }
        }
      ]
    },
    {
      "cell_type": "code",
      "source": [
        "# X needs to be centered around zero, so we should find the mean of X and subtract it from the X values\n",
        "X = X - X.mean()"
      ],
      "metadata": {
        "id": "_9DzWEpYiib9"
      },
      "execution_count": 14,
      "outputs": []
    },
    {
      "cell_type": "code",
      "source": [
        "plt.scatter(X,y) # X is now centered around zero"
      ],
      "metadata": {
        "colab": {
          "base_uri": "https://localhost:8080/",
          "height": 283
        },
        "id": "VUxgFZvkixum",
        "outputId": "6d8e8e95-0cd6-40d9-a675-2d84291119c9"
      },
      "execution_count": 15,
      "outputs": [
        {
          "output_type": "execute_result",
          "data": {
            "text/plain": [
              "<matplotlib.collections.PathCollection at 0x7f9e35b85d10>"
            ]
          },
          "metadata": {},
          "execution_count": 15
        },
        {
          "output_type": "display_data",
          "data": {
            "text/plain": [
              "<Figure size 432x288 with 1 Axes>"
            ],
            "image/png": "[encoded data removed]"
          },
          "metadata": {
            "needs_background": "light"
          }
        }
      ]
    },
    {
      "cell_type": "markdown",
      "source": [
        "## Model"
      ],
      "metadata": {
        "id": "exGs9rGai8ef"
      }
    },
    {
      "cell_type": "code",
      "source": [
        "model = Sequential()\n",
        "\n",
        "model.add(Dense(10, activation = 'relu', input_shape = (1,))) # Confused here a little bit\n",
        "model.add(Dense(1)) # Had to look at notebook to see that there is no activation function here\n",
        "          \n",
        "model.compile(optimizer = 'adam', loss = 'mse')\n",
        "\n",
        "# Callback function\n",
        "\n",
        "def schedule(epoch, lr): # Had to check if this function was correct, after looking I needed to add the parameters (epoch, lr) into the function\n",
        "  if epoch >= 50:\n",
        "    return 0.0001\n",
        "  return 0.001\n",
        "\n",
        "scheduler = tf.keras.callbacks.LearningRateScheduler(schedule) # Looked at tensorflow API (https://www.tensorflow.org/api_docs/python/tf/keras/callbacks/LearningRateScheduler)\n",
        "\n",
        "model.summary()"
      ],
      "metadata": {
        "colab": {
          "base_uri": "https://localhost:8080/"
        },
        "id": "7jgCIFLZi9vZ",
        "outputId": "e240da3c-8737-4133-ae32-66c5800ff51b"
      },
      "execution_count": 30,
      "outputs": [
        {
          "output_type": "stream",
          "name": "stdout",
          "text": [
            "Model: \"sequential_3\"\n",
            "_________________________________________________________________\n",
            " Layer (type)                Output Shape              Param #   \n",
            "=================================================================\n",
            " dense_4 (Dense)             (None, 10)                20        \n",
            "                                                                 \n",
            " dense_5 (Dense)             (None, 1)                 11        \n",
            "                                                                 \n",
            "=================================================================\n",
            "Total params: 31\n",
            "Trainable params: 31\n",
            "Non-trainable params: 0\n",
            "_________________________________________________________________\n"
          ]
        }
      ]
    },
    {
      "cell_type": "code",
      "source": [
        "r = model.fit(X, y, epochs = 50, callbacks = [scheduler])"
      ],
      "metadata": {
        "colab": {
          "base_uri": "https://localhost:8080/"
        },
        "id": "Vn53vd8Ekl0D",
        "outputId": "1b8e7e32-1343-42a3-bc03-8d1ef669c71a"
      },
      "execution_count": 31,
      "outputs": [
        {
          "output_type": "stream",
          "name": "stdout",
          "text": [
            "Epoch 1/50\n",
            "6/6 [==============================] - 0s 2ms/step - loss: 337.3089 - lr: 0.0010\n",
            "Epoch 2/50\n",
            "6/6 [==============================] - 0s 2ms/step - loss: 328.3868 - lr: 0.0010\n",
            "Epoch 3/50\n",
            "6/6 [==============================] - 0s 3ms/step - loss: 319.7163 - lr: 0.0010\n",
            "Epoch 4/50\n",
            "6/6 [==============================] - 0s 2ms/step - loss: 311.4505 - lr: 0.0010\n",
            "Epoch 5/50\n",
            "6/6 [==============================] - 0s 2ms/step - loss: 303.6519 - lr: 0.0010\n",
            "Epoch 6/50\n",
            "6/6 [==============================] - 0s 2ms/step - loss: 295.8246 - lr: 0.0010\n",
            "Epoch 7/50\n",
            "6/6 [==============================] - 0s 2ms/step - loss: 288.0927 - lr: 0.0010\n",
            "Epoch 8/50\n",
            "6/6 [==============================] - 0s 3ms/step - loss: 280.4598 - lr: 0.0010\n",
            "Epoch 9/50\n",
            "6/6 [==============================] - 0s 2ms/step - loss: 273.0775 - lr: 0.0010\n",
            "Epoch 10/50\n",
            "6/6 [==============================] - 0s 3ms/step - loss: 265.7896 - lr: 0.0010\n",
            "Epoch 11/50\n",
            "6/6 [==============================] - 0s 2ms/step - loss: 258.4745 - lr: 0.0010\n",
            "Epoch 12/50\n",
            "6/6 [==============================] - 0s 2ms/step - loss: 251.5326 - lr: 0.0010\n",
            "Epoch 13/50\n",
            "6/6 [==============================] - 0s 2ms/step - loss: 244.7041 - lr: 0.0010\n",
            "Epoch 14/50\n",
            "6/6 [==============================] - 0s 2ms/step - loss: 237.9235 - lr: 0.0010\n",
            "Epoch 15/50\n",
            "6/6 [==============================] - 0s 2ms/step - loss: 231.5093 - lr: 0.0010\n",
            "Epoch 16/50\n",
            "6/6 [==============================] - 0s 3ms/step - loss: 225.2183 - lr: 0.0010\n",
            "Epoch 17/50\n",
            "6/6 [==============================] - 0s 2ms/step - loss: 219.0563 - lr: 0.0010\n",
            "Epoch 18/50\n",
            "6/6 [==============================] - 0s 2ms/step - loss: 212.8368 - lr: 0.0010\n",
            "Epoch 19/50\n",
            "6/6 [==============================] - 0s 2ms/step - loss: 206.6132 - lr: 0.0010\n",
            "Epoch 20/50\n",
            "6/6 [==============================] - 0s 2ms/step - loss: 200.6470 - lr: 0.0010\n",
            "Epoch 21/50\n",
            "6/6 [==============================] - 0s 2ms/step - loss: 194.7498 - lr: 0.0010\n",
            "Epoch 22/50\n",
            "6/6 [==============================] - 0s 2ms/step - loss: 189.2511 - lr: 0.0010\n",
            "Epoch 23/50\n",
            "6/6 [==============================] - 0s 2ms/step - loss: 183.7899 - lr: 0.0010\n",
            "Epoch 24/50\n",
            "6/6 [==============================] - 0s 3ms/step - loss: 178.5516 - lr: 0.0010\n",
            "Epoch 25/50\n",
            "6/6 [==============================] - 0s 3ms/step - loss: 173.3610 - lr: 0.0010\n",
            "Epoch 26/50\n",
            "6/6 [==============================] - 0s 2ms/step - loss: 168.1414 - lr: 0.0010\n",
            "Epoch 27/50\n",
            "6/6 [==============================] - 0s 3ms/step - loss: 163.1097 - lr: 0.0010\n",
            "Epoch 28/50\n",
            "6/6 [==============================] - 0s 3ms/step - loss: 158.4383 - lr: 0.0010\n",
            "Epoch 29/50\n",
            "6/6 [==============================] - 0s 2ms/step - loss: 153.9028 - lr: 0.0010\n",
            "Epoch 30/50\n",
            "6/6 [==============================] - 0s 3ms/step - loss: 149.3677 - lr: 0.0010\n",
            "Epoch 31/50\n",
            "6/6 [==============================] - 0s 3ms/step - loss: 144.9429 - lr: 0.0010\n",
            "Epoch 32/50\n",
            "6/6 [==============================] - 0s 3ms/step - loss: 140.6153 - lr: 0.0010\n",
            "Epoch 33/50\n",
            "6/6 [==============================] - 0s 2ms/step - loss: 136.4514 - lr: 0.0010\n",
            "Epoch 34/50\n",
            "6/6 [==============================] - 0s 2ms/step - loss: 132.5754 - lr: 0.0010\n",
            "Epoch 35/50\n",
            "6/6 [==============================] - 0s 2ms/step - loss: 128.8204 - lr: 0.0010\n",
            "Epoch 36/50\n",
            "6/6 [==============================] - 0s 2ms/step - loss: 125.1890 - lr: 0.0010\n",
            "Epoch 37/50\n",
            "6/6 [==============================] - 0s 4ms/step - loss: 121.7324 - lr: 0.0010\n",
            "Epoch 38/50\n",
            "6/6 [==============================] - 0s 3ms/step - loss: 118.3620 - lr: 0.0010\n",
            "Epoch 39/50\n",
            "6/6 [==============================] - 0s 4ms/step - loss: 115.2208 - lr: 0.0010\n",
            "Epoch 40/50\n",
            "6/6 [==============================] - 0s 3ms/step - loss: 112.1273 - lr: 0.0010\n",
            "Epoch 41/50\n",
            "6/6 [==============================] - 0s 3ms/step - loss: 109.1399 - lr: 0.0010\n",
            "Epoch 42/50\n",
            "6/6 [==============================] - 0s 2ms/step - loss: 106.1494 - lr: 0.0010\n",
            "Epoch 43/50\n",
            "6/6 [==============================] - 0s 2ms/step - loss: 103.3636 - lr: 0.0010\n",
            "Epoch 44/50\n",
            "6/6 [==============================] - 0s 2ms/step - loss: 100.6852 - lr: 0.0010\n",
            "Epoch 45/50\n",
            "6/6 [==============================] - 0s 3ms/step - loss: 98.0868 - lr: 0.0010\n",
            "Epoch 46/50\n",
            "6/6 [==============================] - 0s 3ms/step - loss: 95.6363 - lr: 0.0010\n",
            "Epoch 47/50\n",
            "6/6 [==============================] - 0s 3ms/step - loss: 93.3111 - lr: 0.0010\n",
            "Epoch 48/50\n",
            "6/6 [==============================] - 0s 3ms/step - loss: 91.1889 - lr: 0.0010\n",
            "Epoch 49/50\n",
            "6/6 [==============================] - 0s 3ms/step - loss: 89.2628 - lr: 0.0010\n",
            "Epoch 50/50\n",
            "6/6 [==============================] - 0s 2ms/step - loss: 87.4408 - lr: 0.0010\n"
          ]
        }
      ]
    },
    {
      "cell_type": "code",
      "source": [
        "print(model.layers)\n",
        "print(model.layers[0].get_weights()) # Had to look at notebook for this line of code"
      ],
      "metadata": {
        "colab": {
          "base_uri": "https://localhost:8080/"
        },
        "id": "qy52vvJikxv0",
        "outputId": "629a8ef6-3404-4fc6-fa09-f44eafe3b177"
      },
      "execution_count": 32,
      "outputs": [
        {
          "output_type": "stream",
          "name": "stdout",
          "text": [
            "[<keras.layers.core.dense.Dense object at 0x7f9e31bc8150>, <keras.layers.core.dense.Dense object at 0x7f9e318e7f50>]\n",
            "[array([[ 0.83836085, -0.00138262,  0.85077494,  0.10894755, -0.33482668,\n",
            "         0.45879146,  0.00432736, -0.46487758,  0.53267264, -0.87431717]],\n",
            "      dtype=float32), array([ 0.25102684, -0.14325407,  0.37388435, -0.21113358, -0.21039419,\n",
            "        0.25987718, -0.07234314,  0.35941708,  0.37356952,  0.23244189],\n",
            "      dtype=float32)]\n"
          ]
        }
      ]
    },
    {
      "cell_type": "code",
      "source": [
        "a = model.layers[0].get_weights()[0][0,0]"
      ],
      "metadata": {
        "colab": {
          "base_uri": "https://localhost:8080/"
        },
        "id": "Gi9r8fyGlWWJ",
        "outputId": "1c0ed5c5-a9ba-48fb-8e09-5b40b24786c0"
      },
      "execution_count": 35,
      "outputs": [
        {
          "output_type": "execute_result",
          "data": {
            "text/plain": [
              "0.83836085"
            ]
          },
          "metadata": {},
          "execution_count": 35
        }
      ]
    },
    {
      "cell_type": "code",
      "source": [
        "print(\"Time to double\", np.log(2)/a)"
      ],
      "metadata": {
        "colab": {
          "base_uri": "https://localhost:8080/"
        },
        "id": "KBFHVNbhld-s",
        "outputId": "99e0cff9-bfa2-4914-a534-a9e41c226e9a"
      },
      "execution_count": 36,
      "outputs": [
        {
          "output_type": "stream",
          "name": "stdout",
          "text": [
            "Time to double 0.8267885885079809\n"
          ]
        }
      ]
    },
    {
      "cell_type": "markdown",
      "source": [
        "### I am assuming that this didn't work because I used 2 dense layers with the first one having 10 nuerons and the second one being the output layer one with 1 nueron, this made the model weights wierd becuase there was more nuerons. I am going to guess that if I had just used one nueron in one layer than the \"Time to double\" would be around 2, which would prove moore's law."
      ],
      "metadata": {
        "id": "2au3H2JklsQT"
      }
    }
  ]
}
