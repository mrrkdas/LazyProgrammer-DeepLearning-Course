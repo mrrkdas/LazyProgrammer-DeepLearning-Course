{
  "cells": [
    {
      "cell_type": "markdown",
      "metadata": {
        "id": "view-in-github",
        "colab_type": "text"
      },
      "source": [
        "<a href=\"https://colab.research.google.com/github/mrrkdas/LazyProgrammer-DeepLearning-Course/blob/main/Object_Localization_Part_1.ipynb\" target=\"_parent\"><img src=\"https://colab.research.google.com/assets/colab-badge.svg\" alt=\"Open In Colab\"/></a>"
      ]
    },
    {
      "cell_type": "code",
      "execution_count": null,
      "metadata": {
        "id": "DRG2yOxcn14S"
      },
      "outputs": [],
      "source": [
        "import tensorflow as tf\n",
        "import matplotlib.pyplot as plt\n",
        "import numpy as np\n",
        "from tensorflow.keras.layers import Flatten, Dense\n",
        "from tensorflow.keras.models import Model\n",
        "from tensorflow.keras.optimizers import Adam, SGD"
      ]
    },
    {
      "cell_type": "code",
      "execution_count": null,
      "metadata": {
        "colab": {
          "base_uri": "https://localhost:8080/"
        },
        "id": "-igeTrp1oSHz",
        "outputId": "9b707e29-6b47-48c5-c19e-911f71cf37fb"
      },
      "outputs": [
        {
          "name": "stdout",
          "output_type": "stream",
          "text": [
            "Downloading data from https://storage.googleapis.com/tensorflow/keras-applications/vgg16/vgg16_weights_tf_dim_ordering_tf_kernels_notop.h5\n",
            "58892288/58889256 [==============================] - 1s 0us/step\n",
            "58900480/58889256 [==============================] - 1s 0us/step\n"
          ]
        }
      ],
      "source": [
        "vgg = tf.keras.applications.VGG16(input_shape = [100,100,3], include_top = False,\n",
        "                                  weights = 'imagenet')"
      ]
    },
    {
      "cell_type": "code",
      "execution_count": null,
      "metadata": {
        "id": "hqzLkZFzocXD"
      },
      "outputs": [],
      "source": [
        "x = Flatten() (vgg.output)\n",
        "x = Dense(4) (x)\n",
        "model = Model(vgg.input, x)"
      ]
    },
    {
      "cell_type": "code",
      "execution_count": null,
      "metadata": {
        "id": "vgm6vYoPom66"
      },
      "outputs": [],
      "source": [
        "def img_gen(batch_size = 64):\n",
        "  while True:\n",
        "\n",
        "    for _ in range(50):\n",
        "      X = np.zeros((batch_size, 100, 100, 3))\n",
        "      y = np.zeros((batch_size, 4))\n",
        "\n",
        "      for i in range(batch_size):\n",
        "        row0 = np.random.randint(90)\n",
        "        col0 = np.random.randint(90)\n",
        "        row1 = np.random.randint(row0, 100)\n",
        "        col1 = np.random.randint(col0, 100)\n",
        "\n",
        "        X[i, row0:row1, col0:col1, :] = 1\n",
        "        y[i, 0] = row0/100\n",
        "        y[i, 1] = col0/100\n",
        "        y[i,2] = (row1-row0)/100\n",
        "        y[i,3] = (col1-col0)/100\n",
        "\n",
        "      yield X, y"
      ]
    },
    {
      "cell_type": "code",
      "execution_count": null,
      "metadata": {
        "colab": {
          "base_uri": "https://localhost:8080/"
        },
        "id": "xPXYocFrpqdB",
        "outputId": "6daeb773-0938-413f-c316-d61c0a6a2d7a"
      },
      "outputs": [
        {
          "name": "stderr",
          "output_type": "stream",
          "text": [
            "/usr/local/lib/python3.7/dist-packages/keras/optimizer_v2/adam.py:105: UserWarning: The `lr` argument is deprecated, use `learning_rate` instead.\n",
            "  super(Adam, self).__init__(name, **kwargs)\n"
          ]
        }
      ],
      "source": [
        "model.compile(loss = 'binary_crossentropy', optimizer = Adam(lr = 0.001))"
      ]
    },
    {
      "cell_type": "code",
      "execution_count": null,
      "metadata": {
        "colab": {
          "background_save": true,
          "base_uri": "https://localhost:8080/"
        },
        "id": "5UBI54ugpyFK",
        "outputId": "f305522f-9484-434d-854f-e8e630051a2a"
      },
      "outputs": [
        {
          "metadata": {
            "tags": null
          },
          "name": "stdout",
          "output_type": "stream",
          "text": [
            "Epoch 1/5\n"
          ]
        },
        {
          "metadata": {
            "tags": null
          },
          "name": "stderr",
          "output_type": "stream",
          "text": [
            "/usr/local/lib/python3.7/dist-packages/ipykernel_launcher.py:1: UserWarning: `Model.fit_generator` is deprecated and will be removed in a future version. Please use `Model.fit`, which supports generators.\n",
            "  \"\"\"Entry point for launching an IPython kernel.\n"
          ]
        },
        {
          "metadata": {
            "tags": null
          },
          "name": "stdout",
          "output_type": "stream",
          "text": [
            "50/50 [==============================] - 1379s 27s/step - loss: 5.8277\n",
            "Epoch 2/5\n",
            "30/50 [=================>............] - ETA: 8:39 - loss: 5.9338"
          ]
        }
      ],
      "source": [
        "model.fit_generator(img_gen(), steps_per_epoch = 50, epochs = 5)"
      ]
    },
    {
      "cell_type": "code",
      "execution_count": null,
      "metadata": {
        "id": "ZHrjThRop8SX"
      },
      "outputs": [],
      "source": [
        "from matplotlib.patches import Rectangle\n",
        "\n",
        "def make_pred():\n",
        "  x = np.zeros((100,100,3))\n",
        "  row0 = np.random.randint(90)\n",
        "  col0 = np.random.randint(90)\n",
        "  row1 = np.random.randint(row0, 100)\n",
        "  col1 = np.random.randint(col0, 100)\n",
        "  x[row0:row1, col0:col1, :] = 1\n",
        "  print(row0, row1, col0, col1)\n",
        "\n",
        "  X = np.expand_dims(x, 0)\n",
        "  p = model.predict(X)[0]\n",
        "\n",
        "  fig, ax = plt.subplots(1)\n",
        "  ax.imshow(x)\n",
        "  rect = Rectangle((p[1] * 100, p[0]*100),\n",
        "                   p[3]*100, p[2]*100, linewidth = 1, edgecolor = 'r', facecolor = 'none')\n",
        "  ax.add_patch(rect)\n",
        "  plt.show()\n",
        "\n",
        "        \n"
      ]
    },
    {
      "cell_type": "code",
      "execution_count": null,
      "metadata": {
        "id": "4skw-ll5rB6j"
      },
      "outputs": [],
      "source": [
        "make_pred()"
      ]
    },
    {
      "cell_type": "code",
      "execution_count": null,
      "metadata": {
        "id": "Gt3gP08GrD7v"
      },
      "outputs": [],
      "source": [
        ""
      ]
    }
  ],
  "metadata": {
    "colab": {
      "name": "Object Localization Part 1",
      "provenance": [],
      "authorship_tag": "ABX9TyMxU4W6fGXK3+PtZm6QRHUj",
      "include_colab_link": true
    },
    "kernelspec": {
      "display_name": "Python 3",
      "name": "python3"
    },
    "language_info": {
      "name": "python"
    }
  },
  "nbformat": 4,
  "nbformat_minor": 0
}